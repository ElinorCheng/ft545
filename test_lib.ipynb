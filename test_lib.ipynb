{
 "cells": [
  {
   "cell_type": "code",
   "execution_count": 1,
   "metadata": {
    "collapsed": true,
    "pycharm": {
     "name": "#%%\n"
    }
   },
   "outputs": [],
   "source": [
    "import pandas as pd\n",
    "import numpy as np"
   ]
  },
  {
   "cell_type": "code",
   "execution_count": 2,
   "outputs": [],
   "source": [
    "from Library.simulate import chol_psd, near_psd, higham_psd, multi_norm_sim,PCA_sim"
   ],
   "metadata": {
    "collapsed": false,
    "pycharm": {
     "name": "#%%\n"
    }
   }
  },
  {
   "cell_type": "code",
   "execution_count": 3,
   "outputs": [
    {
     "data": {
      "text/plain": "array([[1.        , 0.        , 0.        , 0.        , 0.        ],\n       [0.9       , 0.43588989, 0.        , 0.        , 0.        ],\n       [0.9       , 0.20647416, 0.38388595, 0.        , 0.        ],\n       [0.9       , 0.20647416, 0.12339191, 0.36351459, 0.        ],\n       [0.9       , 0.20647416, 0.12339191, 0.08842247, 0.35259655]])"
     },
     "execution_count": 3,
     "metadata": {},
     "output_type": "execute_result"
    }
   ],
   "source": [
    "\n",
    "sigma = np.ones((5,5)) * 0.9\n",
    "for i in range(0,5):\n",
    "    sigma[i,i] = 1\n",
    "L = chol_psd(sigma)\n",
    "L"
   ],
   "metadata": {
    "collapsed": false,
    "pycharm": {
     "name": "#%%\n"
    }
   }
  },
  {
   "cell_type": "code",
   "execution_count": 4,
   "outputs": [
    {
     "data": {
      "text/plain": "array([[1.        , 0.73570072, 0.89999652, 0.89999652, 0.89999652],\n       [0.73570072, 1.        , 0.89999652, 0.89999652, 0.89999652],\n       [0.89999652, 0.89999652, 1.        , 0.90000011, 0.90000011],\n       [0.89999652, 0.89999652, 0.90000011, 1.        , 0.90000011],\n       [0.89999652, 0.89999652, 0.90000011, 0.90000011, 1.        ]])"
     },
     "execution_count": 4,
     "metadata": {},
     "output_type": "execute_result"
    }
   ],
   "source": [
    "def gen_sigma(n):\n",
    "    #generate sigma with different dimension\n",
    "    sigma = np.ones((n,n)) * 0.9\n",
    "    np.fill_diagonal(sigma, 1)\n",
    "    sigma[0,1]=0.7357\n",
    "    sigma[1,0]=0.7357\n",
    "    return sigma\n",
    "\n",
    "sigma = gen_sigma(5)\n",
    "near_psd(sigma)\n",
    "\n"
   ],
   "metadata": {
    "collapsed": false,
    "pycharm": {
     "name": "#%%\n"
    }
   }
  },
  {
   "cell_type": "code",
   "execution_count": 5,
   "outputs": [
    {
     "data": {
      "text/plain": "array([[1.        , 0.73570272, 0.89999825, 0.89999825, 0.89999825],\n       [0.73570272, 1.        , 0.89999825, 0.89999825, 0.89999825],\n       [0.89999825, 0.89999825, 1.        , 0.90000112, 0.90000112],\n       [0.89999825, 0.89999825, 0.90000112, 1.        , 0.90000112],\n       [0.89999825, 0.89999825, 0.90000112, 0.90000112, 1.        ]])"
     },
     "execution_count": 5,
     "metadata": {},
     "output_type": "execute_result"
    }
   ],
   "source": [
    "higham_psd(sigma, tol=0.1)"
   ],
   "metadata": {
    "collapsed": false,
    "pycharm": {
     "name": "#%%\n"
    }
   }
  },
  {
   "cell_type": "code",
   "execution_count": 6,
   "outputs": [],
   "source": [
    "from Library.variance import ew_cov"
   ],
   "metadata": {
    "collapsed": false,
    "pycharm": {
     "name": "#%%\n"
    }
   }
  },
  {
   "cell_type": "code",
   "execution_count": 7,
   "outputs": [
    {
     "data": {
      "text/plain": "array([[8.41106909e-05, 1.06945662e-04, 1.21760871e-04, ...,\n        1.25484463e-04, 8.11331555e-05, 8.61130395e-05],\n       [1.06945662e-04, 2.68752303e-04, 1.97531665e-04, ...,\n        1.15658764e-04, 3.74977522e-05, 8.22220854e-05],\n       [1.21760871e-04, 1.97531665e-04, 2.91157502e-04, ...,\n        8.30278956e-05, 3.31844912e-05, 7.34713753e-05],\n       ...,\n       [1.25484463e-04, 1.15658764e-04, 8.30278956e-05, ...,\n        7.47889224e-04, 2.68371109e-04, 2.00639601e-04],\n       [8.11331555e-05, 3.74977522e-05, 3.31844912e-05, ...,\n        2.68371109e-04, 3.08241679e-04, 8.21009546e-05],\n       [8.61130395e-05, 8.22220854e-05, 7.34713753e-05, ...,\n        2.00639601e-04, 8.21009546e-05, 2.62692778e-04]])"
     },
     "execution_count": 7,
     "metadata": {},
     "output_type": "execute_result"
    }
   ],
   "source": [
    "data = pd.read_csv('Week03/DailyReturn.csv')\n",
    "ewcov = ew_cov(data.values[:, 1:], lambda_=0.97)\n",
    "ewcov"
   ],
   "metadata": {
    "collapsed": false,
    "pycharm": {
     "name": "#%%\n"
    }
   }
  },
  {
   "cell_type": "code",
   "execution_count": 8,
   "outputs": [
    {
     "data": {
      "text/plain": "array([[ 0.00323515,  0.00522238,  0.01089786, ...,  0.00696706,\n        -0.00795452, -0.01909612],\n       [ 0.02179834, -0.00386284, -0.00811096, ...,  0.00815722,\n        -0.00395968, -0.02154282],\n       [ 0.02682903,  0.01277671,  0.01075878, ..., -0.00725294,\n        -0.01790492, -0.01083308],\n       ...,\n       [ 0.02711625,  0.0177827 ,  0.01105353, ...,  0.01948122,\n        -0.03342609, -0.02796094],\n       [-0.02472552,  0.0057546 ,  0.02566186, ...,  0.01330215,\n         0.00359858, -0.02787249],\n       [-0.02173507, -0.00170061,  0.01843356, ...,  0.02668618,\n        -0.02404652, -0.03089136]])"
     },
     "execution_count": 8,
     "metadata": {},
     "output_type": "execute_result"
    }
   ],
   "source": [
    "direc_sim = multi_norm_sim(ewcov)\n",
    "direc_sim"
   ],
   "metadata": {
    "collapsed": false,
    "pycharm": {
     "name": "#%%\n"
    }
   }
  },
  {
   "cell_type": "markdown",
   "source": [],
   "metadata": {
    "collapsed": false,
    "pycharm": {
     "name": "#%% md\n"
    }
   }
  },
  {
   "cell_type": "code",
   "execution_count": 9,
   "outputs": [
    {
     "data": {
      "text/plain": "array([[-0.00816602,  0.00925976,  0.00191371, ...,  0.00265306,\n        -0.00095797, -0.01004138],\n       [-0.00682438,  0.01602555,  0.00904676, ...,  0.00156645,\n        -0.0112264 , -0.00215623],\n       [ 0.00140036,  0.02315665, -0.00126747, ...,  0.01526437,\n        -0.00985535, -0.00877747],\n       ...,\n       [-0.01674619,  0.0319062 ,  0.02890463, ..., -0.01502735,\n        -0.00563361, -0.01718642],\n       [-0.01243991,  0.01654009,  0.01209633, ..., -0.00869758,\n         0.01985038, -0.01379374],\n       [-0.00969853, -0.00540575,  0.00796531, ..., -0.00094378,\n        -0.00111791, -0.03260173]])"
     },
     "execution_count": 9,
     "metadata": {},
     "output_type": "execute_result"
    }
   ],
   "source": [
    "sim = PCA_sim(ewcov,exp = 0.75)\n",
    "sim"
   ],
   "metadata": {
    "collapsed": false,
    "pycharm": {
     "name": "#%%\n"
    }
   }
  },
  {
   "cell_type": "code",
   "execution_count": 10,
   "outputs": [],
   "source": [
    "from Library.risk_stats import return_calculate, var_calculate,es_calculate"
   ],
   "metadata": {
    "collapsed": false,
    "pycharm": {
     "name": "#%%\n"
    }
   }
  },
  {
   "cell_type": "code",
   "execution_count": 11,
   "outputs": [],
   "source": [
    "price_data = pd.read_csv('Week04/DailyPrices.csv')"
   ],
   "metadata": {
    "collapsed": false,
    "pycharm": {
     "name": "#%%\n"
    }
   }
  },
  {
   "cell_type": "code",
   "execution_count": 12,
   "outputs": [],
   "source": [
    "classic_return = return_calculate(price_data,method=\"CLASSIC\", dateColumn=\"Date\")\n",
    "discrete_return = return_calculate(price_data,method=\"DISCRETE\", dateColumn=\"Date\")\n",
    "log_return = return_calculate(price_data,method=\"LOG\", dateColumn=\"Date\")"
   ],
   "metadata": {
    "collapsed": false,
    "pycharm": {
     "name": "#%%\n"
    }
   }
  },
  {
   "cell_type": "code",
   "execution_count": 13,
   "outputs": [
    {
     "data": {
      "text/plain": "             Date       SPY      AAPL      MSFT      AMZN      TSLA     GOOGL  \\\n0  2/15/2022 0:00  0.016127  0.023152  0.018542  0.008658  0.053291  0.007987   \n1  2/16/2022 0:00  0.001121 -0.001389 -0.001167  0.010159  0.001041  0.008268   \n2  2/17/2022 0:00 -0.021361 -0.021269 -0.029282 -0.021809 -0.050943 -0.037746   \n3  2/18/2022 0:00 -0.006475 -0.009356 -0.009631 -0.013262 -0.022103 -0.016116   \n4  2/22/2022 0:00 -0.010732 -0.017812 -0.000729 -0.015753 -0.041366 -0.004521   \n5  2/23/2022 0:00 -0.017739 -0.025864 -0.025893 -0.035756 -0.069979 -0.017144   \n6  2/24/2022 0:00  0.015049  0.016680  0.051093  0.045095  0.048073  0.039996   \n7  2/25/2022 0:00  0.022064  0.012966  0.009233  0.016058  0.011364  0.013328   \n8  2/28/2022 0:00 -0.002558  0.001638  0.004978 -0.001466  0.074777  0.004444   \n9   3/1/2022 0:00 -0.015230 -0.011628 -0.012852 -0.015766 -0.006962 -0.007371   \n\n       GOOG      META      NVDA  ...       PNC      MDLZ        MO       ADI  \\\n0  0.008319  0.015158  0.091812  ...  0.012807 -0.004082  0.004592  0.052344   \n1  0.007784 -0.020181  0.000604  ...  0.006757 -0.002429  0.005763  0.038879   \n2 -0.037669 -0.040778 -0.075591  ... -0.034949  0.005326  0.015017 -0.046988   \n3 -0.013914 -0.007462 -0.035296  ... -0.000646 -0.000908  0.007203 -0.000436   \n4 -0.008163 -0.019790 -0.010659  ...  0.009494  0.007121 -0.008891  0.003243   \n5 -0.014045 -0.017963 -0.042882  ... -0.020041 -0.002859  0.013066 -0.027287   \n6  0.039883  0.046107  0.060794  ... -0.017084 -0.024592 -0.045813  0.026071   \n7  0.013914  0.013873  0.017223  ...  0.036092  0.032637  0.038531  0.014582   \n8  0.002762  0.002613  0.009438  ... -0.016875 -0.019173 -0.003691 -0.011288   \n9 -0.005360 -0.035729 -0.037236  ... -0.060527 -0.017410  0.005459 -0.020837   \n\n       GILD       LMT       SYK        GM       TFC       TJX  \n0  0.003600 -0.012275  0.033021  0.026240  0.028572  0.013237  \n1  0.009294  0.012244  0.003363  0.015301 -0.001389 -0.025984  \n2 -0.009855  0.004833 -0.030857 -0.031925 -0.033380 -0.028763  \n3 -0.003916 -0.005942 -0.013674 -0.004506 -0.003677  0.015038  \n4 -0.001147 -0.000673  0.008342 -0.037654 -0.002246 -0.013605  \n5  0.006068  0.006991  0.013629 -0.008339 -0.025410 -0.042146  \n6 -0.012062  0.017511  0.016087 -0.000647 -0.022937  0.035040  \n7  0.008414  0.034824  0.031393  0.023301  0.063503  0.032308  \n8 -0.011780  0.066660 -0.009180 -0.014969 -0.011910 -0.010183  \n9 -0.002318  0.052582 -0.002772 -0.047089 -0.065413 -0.033283  \n\n[10 rows x 101 columns]",
      "text/html": "<div>\n<style scoped>\n    .dataframe tbody tr th:only-of-type {\n        vertical-align: middle;\n    }\n\n    .dataframe tbody tr th {\n        vertical-align: top;\n    }\n\n    .dataframe thead th {\n        text-align: right;\n    }\n</style>\n<table border=\"1\" class=\"dataframe\">\n  <thead>\n    <tr style=\"text-align: right;\">\n      <th></th>\n      <th>Date</th>\n      <th>SPY</th>\n      <th>AAPL</th>\n      <th>MSFT</th>\n      <th>AMZN</th>\n      <th>TSLA</th>\n      <th>GOOGL</th>\n      <th>GOOG</th>\n      <th>META</th>\n      <th>NVDA</th>\n      <th>...</th>\n      <th>PNC</th>\n      <th>MDLZ</th>\n      <th>MO</th>\n      <th>ADI</th>\n      <th>GILD</th>\n      <th>LMT</th>\n      <th>SYK</th>\n      <th>GM</th>\n      <th>TFC</th>\n      <th>TJX</th>\n    </tr>\n  </thead>\n  <tbody>\n    <tr>\n      <th>0</th>\n      <td>2/15/2022 0:00</td>\n      <td>0.016127</td>\n      <td>0.023152</td>\n      <td>0.018542</td>\n      <td>0.008658</td>\n      <td>0.053291</td>\n      <td>0.007987</td>\n      <td>0.008319</td>\n      <td>0.015158</td>\n      <td>0.091812</td>\n      <td>...</td>\n      <td>0.012807</td>\n      <td>-0.004082</td>\n      <td>0.004592</td>\n      <td>0.052344</td>\n      <td>0.003600</td>\n      <td>-0.012275</td>\n      <td>0.033021</td>\n      <td>0.026240</td>\n      <td>0.028572</td>\n      <td>0.013237</td>\n    </tr>\n    <tr>\n      <th>1</th>\n      <td>2/16/2022 0:00</td>\n      <td>0.001121</td>\n      <td>-0.001389</td>\n      <td>-0.001167</td>\n      <td>0.010159</td>\n      <td>0.001041</td>\n      <td>0.008268</td>\n      <td>0.007784</td>\n      <td>-0.020181</td>\n      <td>0.000604</td>\n      <td>...</td>\n      <td>0.006757</td>\n      <td>-0.002429</td>\n      <td>0.005763</td>\n      <td>0.038879</td>\n      <td>0.009294</td>\n      <td>0.012244</td>\n      <td>0.003363</td>\n      <td>0.015301</td>\n      <td>-0.001389</td>\n      <td>-0.025984</td>\n    </tr>\n    <tr>\n      <th>2</th>\n      <td>2/17/2022 0:00</td>\n      <td>-0.021361</td>\n      <td>-0.021269</td>\n      <td>-0.029282</td>\n      <td>-0.021809</td>\n      <td>-0.050943</td>\n      <td>-0.037746</td>\n      <td>-0.037669</td>\n      <td>-0.040778</td>\n      <td>-0.075591</td>\n      <td>...</td>\n      <td>-0.034949</td>\n      <td>0.005326</td>\n      <td>0.015017</td>\n      <td>-0.046988</td>\n      <td>-0.009855</td>\n      <td>0.004833</td>\n      <td>-0.030857</td>\n      <td>-0.031925</td>\n      <td>-0.033380</td>\n      <td>-0.028763</td>\n    </tr>\n    <tr>\n      <th>3</th>\n      <td>2/18/2022 0:00</td>\n      <td>-0.006475</td>\n      <td>-0.009356</td>\n      <td>-0.009631</td>\n      <td>-0.013262</td>\n      <td>-0.022103</td>\n      <td>-0.016116</td>\n      <td>-0.013914</td>\n      <td>-0.007462</td>\n      <td>-0.035296</td>\n      <td>...</td>\n      <td>-0.000646</td>\n      <td>-0.000908</td>\n      <td>0.007203</td>\n      <td>-0.000436</td>\n      <td>-0.003916</td>\n      <td>-0.005942</td>\n      <td>-0.013674</td>\n      <td>-0.004506</td>\n      <td>-0.003677</td>\n      <td>0.015038</td>\n    </tr>\n    <tr>\n      <th>4</th>\n      <td>2/22/2022 0:00</td>\n      <td>-0.010732</td>\n      <td>-0.017812</td>\n      <td>-0.000729</td>\n      <td>-0.015753</td>\n      <td>-0.041366</td>\n      <td>-0.004521</td>\n      <td>-0.008163</td>\n      <td>-0.019790</td>\n      <td>-0.010659</td>\n      <td>...</td>\n      <td>0.009494</td>\n      <td>0.007121</td>\n      <td>-0.008891</td>\n      <td>0.003243</td>\n      <td>-0.001147</td>\n      <td>-0.000673</td>\n      <td>0.008342</td>\n      <td>-0.037654</td>\n      <td>-0.002246</td>\n      <td>-0.013605</td>\n    </tr>\n    <tr>\n      <th>5</th>\n      <td>2/23/2022 0:00</td>\n      <td>-0.017739</td>\n      <td>-0.025864</td>\n      <td>-0.025893</td>\n      <td>-0.035756</td>\n      <td>-0.069979</td>\n      <td>-0.017144</td>\n      <td>-0.014045</td>\n      <td>-0.017963</td>\n      <td>-0.042882</td>\n      <td>...</td>\n      <td>-0.020041</td>\n      <td>-0.002859</td>\n      <td>0.013066</td>\n      <td>-0.027287</td>\n      <td>0.006068</td>\n      <td>0.006991</td>\n      <td>0.013629</td>\n      <td>-0.008339</td>\n      <td>-0.025410</td>\n      <td>-0.042146</td>\n    </tr>\n    <tr>\n      <th>6</th>\n      <td>2/24/2022 0:00</td>\n      <td>0.015049</td>\n      <td>0.016680</td>\n      <td>0.051093</td>\n      <td>0.045095</td>\n      <td>0.048073</td>\n      <td>0.039996</td>\n      <td>0.039883</td>\n      <td>0.046107</td>\n      <td>0.060794</td>\n      <td>...</td>\n      <td>-0.017084</td>\n      <td>-0.024592</td>\n      <td>-0.045813</td>\n      <td>0.026071</td>\n      <td>-0.012062</td>\n      <td>0.017511</td>\n      <td>0.016087</td>\n      <td>-0.000647</td>\n      <td>-0.022937</td>\n      <td>0.035040</td>\n    </tr>\n    <tr>\n      <th>7</th>\n      <td>2/25/2022 0:00</td>\n      <td>0.022064</td>\n      <td>0.012966</td>\n      <td>0.009233</td>\n      <td>0.016058</td>\n      <td>0.011364</td>\n      <td>0.013328</td>\n      <td>0.013914</td>\n      <td>0.013873</td>\n      <td>0.017223</td>\n      <td>...</td>\n      <td>0.036092</td>\n      <td>0.032637</td>\n      <td>0.038531</td>\n      <td>0.014582</td>\n      <td>0.008414</td>\n      <td>0.034824</td>\n      <td>0.031393</td>\n      <td>0.023301</td>\n      <td>0.063503</td>\n      <td>0.032308</td>\n    </tr>\n    <tr>\n      <th>8</th>\n      <td>2/28/2022 0:00</td>\n      <td>-0.002558</td>\n      <td>0.001638</td>\n      <td>0.004978</td>\n      <td>-0.001466</td>\n      <td>0.074777</td>\n      <td>0.004444</td>\n      <td>0.002762</td>\n      <td>0.002613</td>\n      <td>0.009438</td>\n      <td>...</td>\n      <td>-0.016875</td>\n      <td>-0.019173</td>\n      <td>-0.003691</td>\n      <td>-0.011288</td>\n      <td>-0.011780</td>\n      <td>0.066660</td>\n      <td>-0.009180</td>\n      <td>-0.014969</td>\n      <td>-0.011910</td>\n      <td>-0.010183</td>\n    </tr>\n    <tr>\n      <th>9</th>\n      <td>3/1/2022 0:00</td>\n      <td>-0.015230</td>\n      <td>-0.011628</td>\n      <td>-0.012852</td>\n      <td>-0.015766</td>\n      <td>-0.006962</td>\n      <td>-0.007371</td>\n      <td>-0.005360</td>\n      <td>-0.035729</td>\n      <td>-0.037236</td>\n      <td>...</td>\n      <td>-0.060527</td>\n      <td>-0.017410</td>\n      <td>0.005459</td>\n      <td>-0.020837</td>\n      <td>-0.002318</td>\n      <td>0.052582</td>\n      <td>-0.002772</td>\n      <td>-0.047089</td>\n      <td>-0.065413</td>\n      <td>-0.033283</td>\n    </tr>\n  </tbody>\n</table>\n<p>10 rows × 101 columns</p>\n</div>"
     },
     "execution_count": 13,
     "metadata": {},
     "output_type": "execute_result"
    }
   ],
   "source": [
    "discrete_return.head(10)"
   ],
   "metadata": {
    "collapsed": false,
    "pycharm": {
     "name": "#%%\n"
    }
   }
  },
  {
   "cell_type": "code",
   "execution_count": 14,
   "outputs": [
    {
     "data": {
      "text/plain": "             Date       SPY      AAPL      MSFT      AMZN      TSLA     GOOGL  \\\n0  2/15/2022 0:00  0.015998  0.022888  0.018372  0.008621  0.051919  0.007956   \n1  2/16/2022 0:00  0.001120 -0.001390 -0.001168  0.010108  0.001040  0.008234   \n2  2/17/2022 0:00 -0.021593 -0.021499 -0.029719 -0.022050 -0.052286 -0.038476   \n3  2/18/2022 0:00 -0.006496 -0.009400 -0.009678 -0.013351 -0.022351 -0.016247   \n4  2/22/2022 0:00 -0.010790 -0.017973 -0.000729 -0.015879 -0.042246 -0.004531   \n5  2/23/2022 0:00 -0.017898 -0.026204 -0.026234 -0.036411 -0.072548 -0.017293   \n6  2/24/2022 0:00  0.014937  0.016542  0.049831  0.044108  0.046954  0.039217   \n7  2/25/2022 0:00  0.021824  0.012882  0.009191  0.015930  0.011300  0.013240   \n8  2/28/2022 0:00 -0.002562  0.001636  0.004966 -0.001467  0.072114  0.004434   \n9   3/1/2022 0:00 -0.015347 -0.011696 -0.012935 -0.015891 -0.006986 -0.007398   \n\n       GOOG      META      NVDA  ...       PNC      MDLZ        MO       ADI  \\\n0  0.008284  0.015045  0.087839  ...  0.012726 -0.004091  0.004581  0.051021   \n1  0.007754 -0.020387  0.000604  ...  0.006734 -0.002432  0.005747  0.038143   \n2 -0.038397 -0.041632 -0.078601  ... -0.035574  0.005312  0.014905 -0.048128   \n3 -0.014012 -0.007490 -0.035934  ... -0.000646 -0.000909  0.007177 -0.000436   \n4 -0.008196 -0.019989 -0.010716  ...  0.009450  0.007096 -0.008930  0.003238   \n5 -0.014145 -0.018127 -0.043828  ... -0.020245 -0.002863  0.012981 -0.027667   \n6  0.039108  0.045076  0.059018  ... -0.017232 -0.024900 -0.046896  0.025737   \n7  0.013818  0.013777  0.017076  ...  0.035456  0.032116  0.037808  0.014476   \n8  0.002758  0.002610  0.009394  ... -0.017019 -0.019359 -0.003698 -0.011352   \n9 -0.005374 -0.036383 -0.037947  ... -0.062436 -0.017563  0.005444 -0.021057   \n\n       GILD       LMT       SYK        GM       TFC       TJX  \n0  0.003594 -0.012351  0.032487  0.025901  0.028171  0.013150  \n1  0.009251  0.012170  0.003357  0.015185 -0.001390 -0.026327  \n2 -0.009903  0.004822 -0.031343 -0.032446 -0.033950 -0.029185  \n3 -0.003924 -0.005960 -0.013768 -0.004517 -0.003684  0.014926  \n4 -0.001147 -0.000673  0.008308 -0.038382 -0.002249 -0.013699  \n5  0.006049  0.006967  0.013536 -0.008374 -0.025738 -0.043060  \n6 -0.012135  0.017359  0.015959 -0.000647 -0.023204  0.034440  \n7  0.008379  0.034231  0.030910  0.023034  0.061568  0.031797  \n8 -0.011850  0.064532 -0.009222 -0.015083 -0.011982 -0.010235  \n9 -0.002321  0.051246 -0.002776 -0.048234 -0.067651 -0.033849  \n\n[10 rows x 101 columns]",
      "text/html": "<div>\n<style scoped>\n    .dataframe tbody tr th:only-of-type {\n        vertical-align: middle;\n    }\n\n    .dataframe tbody tr th {\n        vertical-align: top;\n    }\n\n    .dataframe thead th {\n        text-align: right;\n    }\n</style>\n<table border=\"1\" class=\"dataframe\">\n  <thead>\n    <tr style=\"text-align: right;\">\n      <th></th>\n      <th>Date</th>\n      <th>SPY</th>\n      <th>AAPL</th>\n      <th>MSFT</th>\n      <th>AMZN</th>\n      <th>TSLA</th>\n      <th>GOOGL</th>\n      <th>GOOG</th>\n      <th>META</th>\n      <th>NVDA</th>\n      <th>...</th>\n      <th>PNC</th>\n      <th>MDLZ</th>\n      <th>MO</th>\n      <th>ADI</th>\n      <th>GILD</th>\n      <th>LMT</th>\n      <th>SYK</th>\n      <th>GM</th>\n      <th>TFC</th>\n      <th>TJX</th>\n    </tr>\n  </thead>\n  <tbody>\n    <tr>\n      <th>0</th>\n      <td>2/15/2022 0:00</td>\n      <td>0.015998</td>\n      <td>0.022888</td>\n      <td>0.018372</td>\n      <td>0.008621</td>\n      <td>0.051919</td>\n      <td>0.007956</td>\n      <td>0.008284</td>\n      <td>0.015045</td>\n      <td>0.087839</td>\n      <td>...</td>\n      <td>0.012726</td>\n      <td>-0.004091</td>\n      <td>0.004581</td>\n      <td>0.051021</td>\n      <td>0.003594</td>\n      <td>-0.012351</td>\n      <td>0.032487</td>\n      <td>0.025901</td>\n      <td>0.028171</td>\n      <td>0.013150</td>\n    </tr>\n    <tr>\n      <th>1</th>\n      <td>2/16/2022 0:00</td>\n      <td>0.001120</td>\n      <td>-0.001390</td>\n      <td>-0.001168</td>\n      <td>0.010108</td>\n      <td>0.001040</td>\n      <td>0.008234</td>\n      <td>0.007754</td>\n      <td>-0.020387</td>\n      <td>0.000604</td>\n      <td>...</td>\n      <td>0.006734</td>\n      <td>-0.002432</td>\n      <td>0.005747</td>\n      <td>0.038143</td>\n      <td>0.009251</td>\n      <td>0.012170</td>\n      <td>0.003357</td>\n      <td>0.015185</td>\n      <td>-0.001390</td>\n      <td>-0.026327</td>\n    </tr>\n    <tr>\n      <th>2</th>\n      <td>2/17/2022 0:00</td>\n      <td>-0.021593</td>\n      <td>-0.021499</td>\n      <td>-0.029719</td>\n      <td>-0.022050</td>\n      <td>-0.052286</td>\n      <td>-0.038476</td>\n      <td>-0.038397</td>\n      <td>-0.041632</td>\n      <td>-0.078601</td>\n      <td>...</td>\n      <td>-0.035574</td>\n      <td>0.005312</td>\n      <td>0.014905</td>\n      <td>-0.048128</td>\n      <td>-0.009903</td>\n      <td>0.004822</td>\n      <td>-0.031343</td>\n      <td>-0.032446</td>\n      <td>-0.033950</td>\n      <td>-0.029185</td>\n    </tr>\n    <tr>\n      <th>3</th>\n      <td>2/18/2022 0:00</td>\n      <td>-0.006496</td>\n      <td>-0.009400</td>\n      <td>-0.009678</td>\n      <td>-0.013351</td>\n      <td>-0.022351</td>\n      <td>-0.016247</td>\n      <td>-0.014012</td>\n      <td>-0.007490</td>\n      <td>-0.035934</td>\n      <td>...</td>\n      <td>-0.000646</td>\n      <td>-0.000909</td>\n      <td>0.007177</td>\n      <td>-0.000436</td>\n      <td>-0.003924</td>\n      <td>-0.005960</td>\n      <td>-0.013768</td>\n      <td>-0.004517</td>\n      <td>-0.003684</td>\n      <td>0.014926</td>\n    </tr>\n    <tr>\n      <th>4</th>\n      <td>2/22/2022 0:00</td>\n      <td>-0.010790</td>\n      <td>-0.017973</td>\n      <td>-0.000729</td>\n      <td>-0.015879</td>\n      <td>-0.042246</td>\n      <td>-0.004531</td>\n      <td>-0.008196</td>\n      <td>-0.019989</td>\n      <td>-0.010716</td>\n      <td>...</td>\n      <td>0.009450</td>\n      <td>0.007096</td>\n      <td>-0.008930</td>\n      <td>0.003238</td>\n      <td>-0.001147</td>\n      <td>-0.000673</td>\n      <td>0.008308</td>\n      <td>-0.038382</td>\n      <td>-0.002249</td>\n      <td>-0.013699</td>\n    </tr>\n    <tr>\n      <th>5</th>\n      <td>2/23/2022 0:00</td>\n      <td>-0.017898</td>\n      <td>-0.026204</td>\n      <td>-0.026234</td>\n      <td>-0.036411</td>\n      <td>-0.072548</td>\n      <td>-0.017293</td>\n      <td>-0.014145</td>\n      <td>-0.018127</td>\n      <td>-0.043828</td>\n      <td>...</td>\n      <td>-0.020245</td>\n      <td>-0.002863</td>\n      <td>0.012981</td>\n      <td>-0.027667</td>\n      <td>0.006049</td>\n      <td>0.006967</td>\n      <td>0.013536</td>\n      <td>-0.008374</td>\n      <td>-0.025738</td>\n      <td>-0.043060</td>\n    </tr>\n    <tr>\n      <th>6</th>\n      <td>2/24/2022 0:00</td>\n      <td>0.014937</td>\n      <td>0.016542</td>\n      <td>0.049831</td>\n      <td>0.044108</td>\n      <td>0.046954</td>\n      <td>0.039217</td>\n      <td>0.039108</td>\n      <td>0.045076</td>\n      <td>0.059018</td>\n      <td>...</td>\n      <td>-0.017232</td>\n      <td>-0.024900</td>\n      <td>-0.046896</td>\n      <td>0.025737</td>\n      <td>-0.012135</td>\n      <td>0.017359</td>\n      <td>0.015959</td>\n      <td>-0.000647</td>\n      <td>-0.023204</td>\n      <td>0.034440</td>\n    </tr>\n    <tr>\n      <th>7</th>\n      <td>2/25/2022 0:00</td>\n      <td>0.021824</td>\n      <td>0.012882</td>\n      <td>0.009191</td>\n      <td>0.015930</td>\n      <td>0.011300</td>\n      <td>0.013240</td>\n      <td>0.013818</td>\n      <td>0.013777</td>\n      <td>0.017076</td>\n      <td>...</td>\n      <td>0.035456</td>\n      <td>0.032116</td>\n      <td>0.037808</td>\n      <td>0.014476</td>\n      <td>0.008379</td>\n      <td>0.034231</td>\n      <td>0.030910</td>\n      <td>0.023034</td>\n      <td>0.061568</td>\n      <td>0.031797</td>\n    </tr>\n    <tr>\n      <th>8</th>\n      <td>2/28/2022 0:00</td>\n      <td>-0.002562</td>\n      <td>0.001636</td>\n      <td>0.004966</td>\n      <td>-0.001467</td>\n      <td>0.072114</td>\n      <td>0.004434</td>\n      <td>0.002758</td>\n      <td>0.002610</td>\n      <td>0.009394</td>\n      <td>...</td>\n      <td>-0.017019</td>\n      <td>-0.019359</td>\n      <td>-0.003698</td>\n      <td>-0.011352</td>\n      <td>-0.011850</td>\n      <td>0.064532</td>\n      <td>-0.009222</td>\n      <td>-0.015083</td>\n      <td>-0.011982</td>\n      <td>-0.010235</td>\n    </tr>\n    <tr>\n      <th>9</th>\n      <td>3/1/2022 0:00</td>\n      <td>-0.015347</td>\n      <td>-0.011696</td>\n      <td>-0.012935</td>\n      <td>-0.015891</td>\n      <td>-0.006986</td>\n      <td>-0.007398</td>\n      <td>-0.005374</td>\n      <td>-0.036383</td>\n      <td>-0.037947</td>\n      <td>...</td>\n      <td>-0.062436</td>\n      <td>-0.017563</td>\n      <td>0.005444</td>\n      <td>-0.021057</td>\n      <td>-0.002321</td>\n      <td>0.051246</td>\n      <td>-0.002776</td>\n      <td>-0.048234</td>\n      <td>-0.067651</td>\n      <td>-0.033849</td>\n    </tr>\n  </tbody>\n</table>\n<p>10 rows × 101 columns</p>\n</div>"
     },
     "execution_count": 14,
     "metadata": {},
     "output_type": "execute_result"
    }
   ],
   "source": [
    "log_return.head(10)"
   ],
   "metadata": {
    "collapsed": false,
    "pycharm": {
     "name": "#%%\n"
    }
   }
  },
  {
   "cell_type": "code",
   "execution_count": 15,
   "outputs": [
    {
     "data": {
      "text/plain": "0.06548547591311148"
     },
     "execution_count": 15,
     "metadata": {},
     "output_type": "execute_result"
    }
   ],
   "source": [
    "meta = discrete_return['META']\n",
    "var_calculate(meta,method='Normal')"
   ],
   "metadata": {
    "collapsed": false,
    "pycharm": {
     "name": "#%%\n"
    }
   }
  },
  {
   "cell_type": "code",
   "execution_count": 16,
   "outputs": [
    {
     "data": {
      "text/plain": "0.09140156200276925"
     },
     "execution_count": 16,
     "metadata": {},
     "output_type": "execute_result"
    }
   ],
   "source": [
    "var_calculate(meta,method='Normal_EW')"
   ],
   "metadata": {
    "collapsed": false,
    "pycharm": {
     "name": "#%%\n"
    }
   }
  },
  {
   "cell_type": "code",
   "execution_count": 17,
   "outputs": [
    {
     "data": {
      "text/plain": "0.05224673019197934"
     },
     "execution_count": 17,
     "metadata": {},
     "output_type": "execute_result"
    }
   ],
   "source": [
    "var_calculate(meta,method='Historic')"
   ],
   "metadata": {
    "collapsed": false,
    "pycharm": {
     "name": "#%%\n"
    }
   }
  },
  {
   "cell_type": "code",
   "execution_count": 18,
   "outputs": [
    {
     "data": {
      "text/plain": "0.06546730090139895"
     },
     "execution_count": 18,
     "metadata": {},
     "output_type": "execute_result"
    }
   ],
   "source": [
    "var_calculate(meta,method='AR_1')"
   ],
   "metadata": {
    "collapsed": false,
    "pycharm": {
     "name": "#%%\n"
    }
   }
  },
  {
   "cell_type": "code",
   "execution_count": 19,
   "outputs": [
    {
     "data": {
      "text/plain": "0.05759600524783451"
     },
     "execution_count": 19,
     "metadata": {},
     "output_type": "execute_result"
    }
   ],
   "source": [
    "var_calculate(meta,method='T')"
   ],
   "metadata": {
    "collapsed": false,
    "pycharm": {
     "name": "#%%\n"
    }
   }
  },
  {
   "cell_type": "code",
   "execution_count": 22,
   "outputs": [
    {
     "data": {
      "text/plain": "0.06915003792894078"
     },
     "execution_count": 22,
     "metadata": {},
     "output_type": "execute_result"
    }
   ],
   "source": [
    "var, es = es_calculate(meta)\n",
    "es"
   ],
   "metadata": {
    "collapsed": false,
    "pycharm": {
     "name": "#%%\n"
    }
   }
  },
  {
   "cell_type": "code",
   "execution_count": null,
   "outputs": [],
   "source": [],
   "metadata": {
    "collapsed": false,
    "pycharm": {
     "name": "#%%\n"
    }
   }
  }
 ],
 "metadata": {
  "kernelspec": {
   "display_name": "Python 3",
   "language": "python",
   "name": "python3"
  },
  "language_info": {
   "codemirror_mode": {
    "name": "ipython",
    "version": 2
   },
   "file_extension": ".py",
   "mimetype": "text/x-python",
   "name": "python",
   "nbconvert_exporter": "python",
   "pygments_lexer": "ipython2",
   "version": "2.7.6"
  }
 },
 "nbformat": 4,
 "nbformat_minor": 0
}